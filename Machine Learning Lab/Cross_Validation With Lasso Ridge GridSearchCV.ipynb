{
  "metadata": {
    "kernelspec": {
      "name": "python",
      "display_name": "Python (Pyodide)",
      "language": "python"
    },
    "language_info": {
      "codemirror_mode": {
        "name": "python",
        "version": 3
      },
      "file_extension": ".py",
      "mimetype": "text/x-python",
      "name": "python",
      "nbconvert_exporter": "python",
      "pygments_lexer": "ipython3",
      "version": "3.8"
    }
  },
  "nbformat_minor": 4,
  "nbformat": 4,
  "cells": [
    {
      "cell_type": "markdown",
      "source": "# Machine Learning Foundation\n\n## Section 2, Part c: Cross Validation \n",
      "metadata": {}
    },
    {
      "cell_type": "markdown",
      "source": "## Learning objectives\n\nBy the end of this lesson, you will be able to:\n\n* Chain multiple data processing steps together using `Pipeline`\n* Use the `KFolds` object to split data into multiple folds.\n* Perform cross validation using SciKit Learn with `cross_val_predict` and `GridSearchCV`\n",
      "metadata": {}
    },
    {
      "cell_type": "code",
      "source": "import piplite\nawait piplite.install(['tqdm', 'seaborn', 'pandas', 'numpy', 'scikit-learn'])",
      "metadata": {
        "trusted": true
      },
      "outputs": [],
      "execution_count": 8
    },
    {
      "cell_type": "code",
      "source": "# Surpress warnings:\ndef warn(*args, **kwargs):\n    pass\nimport warnings\nwarnings.warn = warn\n\nimport numpy as np\nimport pickle\nimport pandas as pd\nimport matplotlib.pyplot as plt\n\n\nfrom sklearn.preprocessing import StandardScaler, PolynomialFeatures\nfrom sklearn.model_selection import KFold, cross_val_predict\nfrom sklearn.linear_model import LinearRegression, Lasso, Ridge\nfrom sklearn.metrics import r2_score\nfrom sklearn.pipeline import Pipeline",
      "metadata": {
        "trusted": true
      },
      "outputs": [],
      "execution_count": 2
    },
    {
      "cell_type": "code",
      "source": "from pyodide.http import pyfetch\n \nasync def download(url, filename):\n    response = await pyfetch(url)\n    if response.status == 200:\n        with open(filename, \"wb\") as f:\n            f.write(await response.bytes())\npath = \"https://cf-courses-data.s3.us.cloud-object-storage.appdomain.cloud/IBM-ML240EN-SkillsNetwork/labs/data/boston_housing_clean.pickle\"\n \n#you will need to download the dataset; if you are running locally, please comment out the following \nawait download(path, \"boston_housing_clean.pickle\")\n \n \n# Import pandas library\nimport pandas as pd\n \n# Read the online file by the URL provides above, and assign it to variable \"df\"\n \nboston = pickle.load(open('boston_housing_clean.pickle', \"rb\" ))",
      "metadata": {
        "trusted": true
      },
      "outputs": [],
      "execution_count": 3
    },
    {
      "cell_type": "code",
      "source": "boston.keys()",
      "metadata": {
        "trusted": true
      },
      "outputs": [
        {
          "execution_count": 4,
          "output_type": "execute_result",
          "data": {
            "text/plain": "dict_keys(['dataframe', 'description'])"
          },
          "metadata": {}
        }
      ],
      "execution_count": 4
    },
    {
      "cell_type": "code",
      "source": "boston_data = boston['dataframe']\nboston_description = boston['description']",
      "metadata": {
        "trusted": true
      },
      "outputs": [],
      "execution_count": 5
    },
    {
      "cell_type": "code",
      "source": "boston_data.head()",
      "metadata": {
        "trusted": true
      },
      "outputs": [
        {
          "execution_count": 6,
          "output_type": "execute_result",
          "data": {
            "text/plain": "      CRIM    ZN  INDUS  CHAS    NOX     RM   AGE     DIS  RAD    TAX  \\\n0  0.00632  18.0   2.31   0.0  0.538  6.575  65.2  4.0900  1.0  296.0   \n1  0.02731   0.0   7.07   0.0  0.469  6.421  78.9  4.9671  2.0  242.0   \n2  0.02729   0.0   7.07   0.0  0.469  7.185  61.1  4.9671  2.0  242.0   \n3  0.03237   0.0   2.18   0.0  0.458  6.998  45.8  6.0622  3.0  222.0   \n4  0.06905   0.0   2.18   0.0  0.458  7.147  54.2  6.0622  3.0  222.0   \n\n   PTRATIO       B  LSTAT  MEDV  \n0     15.3  396.90   4.98  24.0  \n1     17.8  396.90   9.14  21.6  \n2     17.8  392.83   4.03  34.7  \n3     18.7  394.63   2.94  33.4  \n4     18.7  396.90   5.33  36.2  ",
            "text/html": "<div>\n<style scoped>\n    .dataframe tbody tr th:only-of-type {\n        vertical-align: middle;\n    }\n\n    .dataframe tbody tr th {\n        vertical-align: top;\n    }\n\n    .dataframe thead th {\n        text-align: right;\n    }\n</style>\n<table border=\"1\" class=\"dataframe\">\n  <thead>\n    <tr style=\"text-align: right;\">\n      <th></th>\n      <th>CRIM</th>\n      <th>ZN</th>\n      <th>INDUS</th>\n      <th>CHAS</th>\n      <th>NOX</th>\n      <th>RM</th>\n      <th>AGE</th>\n      <th>DIS</th>\n      <th>RAD</th>\n      <th>TAX</th>\n      <th>PTRATIO</th>\n      <th>B</th>\n      <th>LSTAT</th>\n      <th>MEDV</th>\n    </tr>\n  </thead>\n  <tbody>\n    <tr>\n      <th>0</th>\n      <td>0.00632</td>\n      <td>18.0</td>\n      <td>2.31</td>\n      <td>0.0</td>\n      <td>0.538</td>\n      <td>6.575</td>\n      <td>65.2</td>\n      <td>4.0900</td>\n      <td>1.0</td>\n      <td>296.0</td>\n      <td>15.3</td>\n      <td>396.90</td>\n      <td>4.98</td>\n      <td>24.0</td>\n    </tr>\n    <tr>\n      <th>1</th>\n      <td>0.02731</td>\n      <td>0.0</td>\n      <td>7.07</td>\n      <td>0.0</td>\n      <td>0.469</td>\n      <td>6.421</td>\n      <td>78.9</td>\n      <td>4.9671</td>\n      <td>2.0</td>\n      <td>242.0</td>\n      <td>17.8</td>\n      <td>396.90</td>\n      <td>9.14</td>\n      <td>21.6</td>\n    </tr>\n    <tr>\n      <th>2</th>\n      <td>0.02729</td>\n      <td>0.0</td>\n      <td>7.07</td>\n      <td>0.0</td>\n      <td>0.469</td>\n      <td>7.185</td>\n      <td>61.1</td>\n      <td>4.9671</td>\n      <td>2.0</td>\n      <td>242.0</td>\n      <td>17.8</td>\n      <td>392.83</td>\n      <td>4.03</td>\n      <td>34.7</td>\n    </tr>\n    <tr>\n      <th>3</th>\n      <td>0.03237</td>\n      <td>0.0</td>\n      <td>2.18</td>\n      <td>0.0</td>\n      <td>0.458</td>\n      <td>6.998</td>\n      <td>45.8</td>\n      <td>6.0622</td>\n      <td>3.0</td>\n      <td>222.0</td>\n      <td>18.7</td>\n      <td>394.63</td>\n      <td>2.94</td>\n      <td>33.4</td>\n    </tr>\n    <tr>\n      <th>4</th>\n      <td>0.06905</td>\n      <td>0.0</td>\n      <td>2.18</td>\n      <td>0.0</td>\n      <td>0.458</td>\n      <td>7.147</td>\n      <td>54.2</td>\n      <td>6.0622</td>\n      <td>3.0</td>\n      <td>222.0</td>\n      <td>18.7</td>\n      <td>396.90</td>\n      <td>5.33</td>\n      <td>36.2</td>\n    </tr>\n  </tbody>\n</table>\n</div>"
          },
          "metadata": {}
        }
      ],
      "execution_count": 6
    },
    {
      "cell_type": "markdown",
      "source": "### Discussion: \n\nSuppose we want to do Linear Regression on our dataset to get an estimate, based on mean squared error, of how well our model will perform on data outside our dataset. \n\nSuppose also that our data is split into three folds: Fold 1, Fold 2, and Fold 3.\n\nWhat would the steps be, in English, to do this?\n",
      "metadata": {}
    },
    {
      "cell_type": "markdown",
      "source": "**Your response below**\n",
      "metadata": {}
    },
    {
      "cell_type": "markdown",
      "source": " \n",
      "metadata": {}
    },
    {
      "cell_type": "markdown",
      "source": "#### Coding this up\n\nThe [`KFold`](http://scikit-learn.org/stable/modules/generated/sklearn.model_selection.KFold.html) object in SciKit Learn tells the cross validation object (see below) how to split up the data:\n",
      "metadata": {}
    },
    {
      "cell_type": "code",
      "source": "X = boston_data.drop('MEDV', axis=1)\ny = boston_data.MEDV",
      "metadata": {
        "trusted": true
      },
      "outputs": [],
      "execution_count": 10
    },
    {
      "cell_type": "code",
      "source": "kf = KFold(shuffle=True, random_state=72018, n_splits=3)",
      "metadata": {
        "trusted": true
      },
      "outputs": [],
      "execution_count": 11
    },
    {
      "cell_type": "code",
      "source": "for train_index, test_index in kf.split(X):\n    print(\"Train index:\", train_index[:10], len(train_index))\n    print(\"Test index:\",test_index[:10], len(test_index))\n    print('')",
      "metadata": {
        "trusted": true
      },
      "outputs": [
        {
          "name": "stdout",
          "text": "Train index: [ 1  3  4  5  7  8 10 11 12 13] 337\nTest index: [ 0  2  6  9 15 17 19 23 25 26] 169\n\nTrain index: [ 0  2  6  9 10 11 12 13 15 17] 337\nTest index: [ 1  3  4  5  7  8 14 16 22 27] 169\n\nTrain index: [0 1 2 3 4 5 6 7 8 9] 338\nTest index: [10 11 12 13 18 20 21 24 28 31] 168\n\n",
          "output_type": "stream"
        }
      ],
      "execution_count": 12
    },
    {
      "cell_type": "code",
      "source": "#from sklearn.metrics import r2_score, mean_squared_error\n\nscores = []\nlr = LinearRegression()\n\nfor train_index, test_index in kf.split(X):\n    X_train, X_test, y_train, y_test = (X.iloc[train_index, :], \n                                        X.iloc[test_index, :], \n                                        y[train_index], \n                                        y[test_index])\n    \n    lr.fit(X_train, y_train)\n        \n    y_pred = lr.predict(X_test)\n\n    score = r2_score(y_test.values, y_pred)\n    \n    scores.append(score)\n    \nscores",
      "metadata": {
        "trusted": true
      },
      "outputs": [
        {
          "execution_count": 13,
          "output_type": "execute_result",
          "data": {
            "text/plain": "[0.6719348798472738, 0.748502005921236, 0.6976807323597757]"
          },
          "metadata": {}
        }
      ],
      "execution_count": 13
    },
    {
      "cell_type": "markdown",
      "source": "A bit cumbersome, but do-able.\n",
      "metadata": {}
    },
    {
      "cell_type": "markdown",
      "source": "### Discussion (Part 2): \n\nNow suppose we want to do the same, but appropriately scaling our data as we go through the folds.\n\nWhat would the steps be _now_?\n",
      "metadata": {}
    },
    {
      "cell_type": "markdown",
      "source": "**Your response below**\n",
      "metadata": {}
    },
    {
      "cell_type": "markdown",
      "source": "### Coding this up\n",
      "metadata": {}
    },
    {
      "cell_type": "code",
      "source": "scores = []\n\nlr = LinearRegression()\ns = StandardScaler()\n\nfor train_index, test_index in kf.split(X):\n    X_train, X_test, y_train, y_test = (X.iloc[train_index, :], \n                                        X.iloc[test_index, :], \n                                        y[train_index], \n                                        y[test_index])\n    \n    X_train_s = s.fit_transform(X_train)\n    \n    lr.fit(X_train_s, y_train)\n    \n    X_test_s = s.transform(X_test)\n    \n    y_pred = lr.predict(X_test_s)\n\n    score = r2_score(y_test.values, y_pred)\n    \n    scores.append(score)",
      "metadata": {
        "trusted": true
      },
      "outputs": [],
      "execution_count": 14
    },
    {
      "cell_type": "code",
      "source": "scores",
      "metadata": {
        "trusted": true
      },
      "outputs": [
        {
          "execution_count": 15,
          "output_type": "execute_result",
          "data": {
            "text/plain": "[0.6719348798472711, 0.748502005921238, 0.6976807323597745]"
          },
          "metadata": {}
        }
      ],
      "execution_count": 15
    },
    {
      "cell_type": "markdown",
      "source": "(same scores, because for vanilla linear regression with no regularization, scaling actually doesn't matter for performance)\n",
      "metadata": {}
    },
    {
      "cell_type": "markdown",
      "source": "This is getting quite cumbersome! \n\n_Very_ luckily, SciKit Learn has some wonderful functions that handle a lot of this for us.\n",
      "metadata": {}
    },
    {
      "cell_type": "markdown",
      "source": "### `Pipeline` and `cross_val_predict`\n",
      "metadata": {}
    },
    {
      "cell_type": "markdown",
      "source": "`Pipeline` lets you chain together multiple operators on your data that both have a `fit` method.\n",
      "metadata": {}
    },
    {
      "cell_type": "code",
      "source": "s = StandardScaler()\nlr = LinearRegression()",
      "metadata": {
        "trusted": true
      },
      "outputs": [],
      "execution_count": 16
    },
    {
      "cell_type": "markdown",
      "source": "### Combine multiple processing steps into a `Pipeline`\n\nA pipeline contains a series of steps, where a step is (\"name of step\", actual_model). The \"name of step\" string is only used to help you identify which step you are on, and to allow you to specify parameters at that step.  \n",
      "metadata": {}
    },
    {
      "cell_type": "code",
      "source": "estimator = Pipeline([(\"scaler\", s),\n                      (\"regression\", lr)])",
      "metadata": {
        "trusted": true
      },
      "outputs": [],
      "execution_count": 17
    },
    {
      "cell_type": "markdown",
      "source": "### `cross_val_predict`\n\n[`cross_val_predict`](http://scikit-learn.org/stable/modules/generated/sklearn.model_selection.cross_val_predict.html) is a function that does K-fold cross validation for us, appropriately fitting and transforming at every step of the way.\n",
      "metadata": {}
    },
    {
      "cell_type": "code",
      "source": "kf",
      "metadata": {
        "trusted": true
      },
      "outputs": [
        {
          "execution_count": 18,
          "output_type": "execute_result",
          "data": {
            "text/plain": "KFold(n_splits=3, random_state=72018, shuffle=True)"
          },
          "metadata": {}
        }
      ],
      "execution_count": 18
    },
    {
      "cell_type": "code",
      "source": "predictions = cross_val_predict(estimator, X, y, cv=kf)",
      "metadata": {
        "trusted": true
      },
      "outputs": [],
      "execution_count": 19
    },
    {
      "cell_type": "code",
      "source": "r2_score(y, predictions)",
      "metadata": {
        "trusted": true
      },
      "outputs": [
        {
          "execution_count": 20,
          "output_type": "execute_result",
          "data": {
            "text/plain": "0.7063531064161559"
          },
          "metadata": {}
        }
      ],
      "execution_count": 20
    },
    {
      "cell_type": "code",
      "source": "np.mean(scores) # almost identical!",
      "metadata": {
        "trusted": true
      },
      "outputs": [
        {
          "execution_count": 21,
          "output_type": "execute_result",
          "data": {
            "text/plain": "0.7060392060427612"
          },
          "metadata": {}
        }
      ],
      "execution_count": 21
    },
    {
      "cell_type": "markdown",
      "source": "Note that `cross_val_predict` doesn't use the same model for all steps; the predictions for each row are made when that row is in the validation set. We really have the collected results of 3 (i.e. `kf.num_splits`) different models. \n\nWhen we are done, `estimator` is still not fitted. If we want to predict on _new_ data, we still have to train our `estimator`. \n",
      "metadata": {}
    },
    {
      "cell_type": "markdown",
      "source": "## Hyperparameter tuning\n",
      "metadata": {}
    },
    {
      "cell_type": "markdown",
      "source": "### Definition\n\n**Hyperparameter tuning** involves using cross validation (or train-test split) to determine which hyperparameters are most likely to generate a model that _generalizes_ well outside of your sample.\n\n### Mechanics\n\nWe can generate an exponentially spaces range of values using the numpy [`geomspace`](https://docs.scipy.org/doc/numpy/reference/generated/numpy.geomspace.html#numpy.geomspace) function.\n\n```python\nnp.geomspace(1, 1000, num=4)\n```\n\nproduces:\n\n```\narray([    1.,    10.,   100.,  1000.])\n```\n\nUse this function to generate a list of length 10 called `alphas` for hyperparameter tuning:\n",
      "metadata": {}
    },
    {
      "cell_type": "code",
      "source": "alphas = np.geomspace(1e-9, 1e0, num=10)\nalphas",
      "metadata": {
        "trusted": true
      },
      "outputs": [
        {
          "execution_count": 22,
          "output_type": "execute_result",
          "data": {
            "text/plain": "array([1.e-09, 1.e-08, 1.e-07, 1.e-06, 1.e-05, 1.e-04, 1.e-03, 1.e-02,\n       1.e-01, 1.e+00])"
          },
          "metadata": {}
        }
      ],
      "execution_count": 22
    },
    {
      "cell_type": "markdown",
      "source": "The code below tunes the `alpha` hyperparameter for Lasso regression.\n",
      "metadata": {}
    },
    {
      "cell_type": "code",
      "source": "scores = []\ncoefs = []\nfor alpha in alphas:\n    las = Lasso(alpha=alpha, max_iter=100000)\n    \n    estimator = Pipeline([\n        (\"scaler\", s),\n        (\"lasso_regression\", las)])\n\n    predictions = cross_val_predict(estimator, X, y, cv = kf)\n    \n    score = r2_score(y, predictions)\n    \n    scores.append(score)",
      "metadata": {
        "trusted": true
      },
      "outputs": [],
      "execution_count": 23
    },
    {
      "cell_type": "code",
      "source": "list(zip(alphas,scores))",
      "metadata": {
        "trusted": true
      },
      "outputs": [
        {
          "execution_count": 24,
          "output_type": "execute_result",
          "data": {
            "text/plain": "[(1e-09, 0.7063531064981925),\n (1e-08, 0.7063531072356071),\n (1e-07, 0.7063531145602442),\n (1e-06, 0.7063531882052065),\n (1e-05, 0.7063539165191506),\n (0.0001, 0.706361268093463),\n (0.001, 0.7064334670415461),\n (0.01, 0.7070865958083233),\n (0.1, 0.705838151167185),\n (1.0, 0.6512724532884888)]"
          },
          "metadata": {}
        }
      ],
      "execution_count": 24
    },
    {
      "cell_type": "code",
      "source": "Lasso(alpha=1e-6).fit(X, y).coef_",
      "metadata": {
        "trusted": true
      },
      "outputs": [
        {
          "execution_count": 25,
          "output_type": "execute_result",
          "data": {
            "text/plain": "array([-1.07170372e-01,  4.63952623e-02,  2.08588308e-02,  2.68854318e+00,\n       -1.77954207e+01,  3.80475296e+00,  7.50802707e-04, -1.47575348e+00,\n        3.05654279e-01, -1.23293755e-02, -9.53459908e-01,  9.39253013e-03,\n       -5.25467196e-01])"
          },
          "metadata": {}
        }
      ],
      "execution_count": 25
    },
    {
      "cell_type": "code",
      "source": "Lasso(alpha=1.0).fit(X, y).coef_",
      "metadata": {
        "trusted": true
      },
      "outputs": [
        {
          "execution_count": 26,
          "output_type": "execute_result",
          "data": {
            "text/plain": "array([-0.06342255,  0.04916867, -0.        ,  0.        , -0.        ,\n        0.94678567,  0.02092737, -0.66900864,  0.26417501, -0.01520915,\n       -0.72319901,  0.00829117, -0.76143296])"
          },
          "metadata": {}
        }
      ],
      "execution_count": 26
    },
    {
      "cell_type": "code",
      "source": "plt.figure(figsize=(10,6))\nplt.semilogx(alphas, scores, '-o')\nplt.xlabel('$\\\\alpha$')\nplt.ylabel('$R^2$');",
      "metadata": {
        "trusted": true
      },
      "outputs": [
        {
          "output_type": "display_data",
          "data": {
            "text/plain": "<Figure size 1000x600 with 1 Axes>",
            "image/png": "[encoded data removed]"
          },
          "metadata": {}
        }
      ],
      "execution_count": 27
    },
    {
      "cell_type": "markdown",
      "source": "### Exercise\n\nAdd `PolynomialFeatures` to this `Pipeline`, and re-run the cross validation with the `PolynomialFeatures` added.\n\n**Hint #1:** pipelines process input from first to last. Think about the order that it would make sense to add Polynomial Features to the data in sequence and add them in the appropriate place in the pipeline.\n\n**Hint #2:** you should see a significant increase in cross validation accuracy from doing this\n",
      "metadata": {}
    },
    {
      "cell_type": "code",
      "source": "pf = PolynomialFeatures(degree=3)\n\nscores = []\nalphas = np.geomspace(0.06, 6.0, 20)\nfor alpha in alphas:\n    las = Lasso(alpha=alpha, max_iter=100000)\n    \n    estimator = Pipeline([\n        (\"make_higher_degree\", pf),\n        (\"scaler\", s),\n        (\"lasso_regression\", las)])\n\n    predictions = cross_val_predict(estimator, X, y, cv = kf)\n    \n    score = r2_score(y, predictions)\n    \n    scores.append(score)\n    ",
      "metadata": {
        "trusted": true
      },
      "outputs": [],
      "execution_count": 32
    },
    {
      "cell_type": "code",
      "source": "scores",
      "metadata": {
        "trusted": true
      },
      "outputs": [
        {
          "execution_count": 40,
          "output_type": "execute_result",
          "data": {
            "text/plain": "[0.8370717288829701,\n 0.8326948144310432,\n 0.8286529559925637,\n 0.8233523152510992,\n 0.8167906006184344,\n 0.810900248915436,\n 0.8034074560144935,\n 0.7982062979349632,\n 0.7905903084402228,\n 0.7792012048156848,\n 0.7631274541298403,\n 0.7436899702283892,\n 0.7247567692648976,\n 0.7078517759504637,\n 0.6868696898940609,\n 0.6540332780702031,\n 0.6008984526091312,\n 0.5151125189903575,\n 0.3773695477866673,\n 0.15638110822737505]"
          },
          "metadata": {}
        }
      ],
      "execution_count": 40
    },
    {
      "cell_type": "markdown",
      "source": "If you store the results in a list called `scores`, the following will work:\n",
      "metadata": {}
    },
    {
      "cell_type": "code",
      "source": "plt.semilogx(alphas, scores);",
      "metadata": {
        "trusted": true
      },
      "outputs": [
        {
          "output_type": "display_data",
          "data": {
            "text/plain": "<Figure size 640x480 with 1 Axes>",
            "image/png": "[encoded data removed]"
          },
          "metadata": {}
        }
      ],
      "execution_count": 33
    },
    {
      "cell_type": "code",
      "source": "# Once we have found the hyperparameter (alpha~1e-2=0.01)\n# make the model and train it on ALL the data\n# Then release it into the wild .....\nbest_estimator = Pipeline([\n                    (\"scaler\", s),\n                    (\"make_higher_degree\", PolynomialFeatures(degree=2)),\n                    (\"lasso_regression\", Lasso(alpha=0.03))])\n\nbest_estimator.fit(X, y)\nbest_estimator.score(X, y)",
      "metadata": {
        "trusted": true
      },
      "outputs": [
        {
          "execution_count": 30,
          "output_type": "execute_result",
          "data": {
            "text/plain": "0.9134777735196521"
          },
          "metadata": {}
        }
      ],
      "execution_count": 30
    },
    {
      "cell_type": "code",
      "source": "best_estimator.named_steps[\"lasso_regression\"].coef_",
      "metadata": {
        "trusted": true
      },
      "outputs": [
        {
          "execution_count": 31,
          "output_type": "execute_result",
          "data": {
            "text/plain": "array([ 0.00000000e+00, -0.00000000e+00, -0.00000000e+00, -0.00000000e+00,\n        0.00000000e+00, -1.00309168e+00,  3.32679107e+00, -1.01840878e+00,\n       -2.56161421e+00,  1.12778302e+00, -1.72266155e+00, -5.37088506e-01,\n        4.39555878e-01, -3.39542586e+00,  7.22387712e-02,  0.00000000e+00,\n        0.00000000e+00,  3.53653554e+00, -0.00000000e+00,  3.72285440e-01,\n        0.00000000e+00,  0.00000000e+00, -5.49528703e-01, -0.00000000e+00,\n       -0.00000000e+00, -4.05522485e-02,  2.25864611e-01,  1.78508858e-01,\n        0.00000000e+00,  0.00000000e+00,  0.00000000e+00,  6.50874606e-02,\n       -0.00000000e+00, -2.07295802e-01, -0.00000000e+00,  3.71781995e-01,\n        0.00000000e+00, -0.00000000e+00, -5.89531100e-02,  3.47180625e-01,\n        0.00000000e+00,  9.23666274e-01,  3.48873365e-01,  7.29463442e-02,\n        0.00000000e+00,  0.00000000e+00,  7.68485586e-02, -7.21083596e-01,\n        0.00000000e+00, -5.98542558e-01,  4.18420677e-01, -7.98165728e-01,\n       -7.25062683e-01,  2.34818861e-01, -0.00000000e+00, -0.00000000e+00,\n        0.00000000e+00, -1.68164447e-02,  0.00000000e+00, -4.04477826e-01,\n       -4.22989874e-01, -4.06983988e-01, -3.75443720e-01,  4.17684564e-01,\n       -8.91841193e-01,  0.00000000e+00, -2.69309481e-01,  0.00000000e+00,\n        1.02286785e-01,  2.02570379e-01, -6.88345376e-01, -0.00000000e+00,\n       -1.08598703e+00, -3.98751731e-01, -9.37684760e-01, -1.17343147e-01,\n       -7.37427594e-01,  0.00000000e+00,  0.00000000e+00,  1.36340670e+00,\n       -0.00000000e+00, -2.94691228e-03, -8.98125013e-01, -8.68198373e-01,\n        8.03396788e-01, -1.91683803e-01, -1.14706070e-01,  0.00000000e+00,\n       -0.00000000e+00,  5.83161589e-01, -0.00000000e+00,  5.81365491e-02,\n        0.00000000e+00, -2.32896159e-01, -1.12440837e+00,  0.00000000e+00,\n        1.96286997e+00, -0.00000000e+00, -1.00915801e+00, -7.04656486e-02,\n       -1.06456357e-02, -4.78389591e-02, -3.97645601e-01, -3.84121840e-01,\n        9.97402419e-01])"
          },
          "metadata": {}
        }
      ],
      "execution_count": 31
    },
    {
      "cell_type": "markdown",
      "source": "### Exercise\n\nDo the same, but with `Ridge` regression \n\nWhich model, `Ridge` or `Lasso`, performs best with its optimal hyperparameters on the Boston dataset?\n",
      "metadata": {}
    },
    {
      "cell_type": "code",
      "source": "pf = PolynomialFeatures(degree=2)\nalphas = np.geomspace(4, 20, 20)\nscores=[]\nfor alpha in alphas:\n    ridge = Ridge(alpha=alpha, max_iter=100000)\n\n    estimator = Pipeline([\n        (\"scaler\", s),\n        (\"polynomial_features\", pf),\n        (\"ridge_regression\", ridge)])\n\n    predictions = cross_val_predict(estimator, X, y, cv = kf)\n    score = r2_score(y, predictions)\n    scores.append(score)\n\nplt.plot(alphas, scores)",
      "metadata": {
        "trusted": true
      },
      "outputs": [
        {
          "execution_count": 43,
          "output_type": "execute_result",
          "data": {
            "text/plain": "[<matplotlib.lines.Line2D at 0xd4eed88>]"
          },
          "metadata": {}
        },
        {
          "output_type": "display_data",
          "data": {
            "text/plain": "<Figure size 640x480 with 1 Axes>",
            "image/png": "[encoded data removed]"
          },
          "metadata": {}
        }
      ],
      "execution_count": 43
    },
    {
      "cell_type": "markdown",
      "source": "**Conclusion:** Both Lasso and Ridge with proper hyperparameter tuning give better results than plain ol' Linear Regression!\n",
      "metadata": {}
    },
    {
      "cell_type": "markdown",
      "source": "### Exercise:\n",
      "metadata": {}
    },
    {
      "cell_type": "markdown",
      "source": "Now, for whatever your best overall hyperparameter was: \n\n* Standardize the data\n* Fit and predict on the entire dataset\n* See what the largest coefficients were\n    * Hint: use \n    ```python\n    dict(zip(model.coef_, pf.get_feature_names()))\n    ```\n    for your model `model` to get the feature names from `PolynomialFeatures`.\n    \n    Then, use\n    ```python\n    dict(zip(list(range(len(X.columns.values))), X.columns.values))\n    ```\n    \n    to see which features in the `PolynomialFeatures` DataFrame correspond to which columns in the original DataFrame.\n",
      "metadata": {}
    },
    {
      "cell_type": "code",
      "source": "# Once we have found the hyperparameter (alpha~1e-2=0.01)\n# make the model and train it on ALL the data\n# Then release it into the wild .....\nbest_estimator = Pipeline([\n                    (\"make_higher_degree\", PolynomialFeatures(degree=2)),\n                    (\"scaler\", s),\n                    (\"lasso_regression\", Lasso(alpha=0.01))])\n\nbest_estimator.fit(X, y)\nbest_estimator.score(X, y)",
      "metadata": {
        "trusted": true
      },
      "outputs": [
        {
          "execution_count": 62,
          "output_type": "execute_result",
          "data": {
            "text/plain": "0.9047578542960124"
          },
          "metadata": {}
        }
      ],
      "execution_count": 62
    },
    {
      "cell_type": "code",
      "source": "df_importances = pd.DataFrame(zip(best_estimator.named_steps[\"make_higher_degree\"].get_feature_names_out(),\n                 best_estimator.named_steps[\"lasso_regression\"].coef_,\n))",
      "metadata": {
        "trusted": true
      },
      "outputs": [],
      "execution_count": 64
    },
    {
      "cell_type": "code",
      "source": "col_names_dict = dict(zip(list(range(len(X.columns.values))), X.columns.values))",
      "metadata": {
        "trusted": true
      },
      "outputs": [],
      "execution_count": 65
    },
    {
      "cell_type": "code",
      "source": "col_names_dict",
      "metadata": {
        "trusted": true
      },
      "outputs": [
        {
          "execution_count": 66,
          "output_type": "execute_result",
          "data": {
            "text/plain": "{0: 'CRIM',\n 1: 'ZN',\n 2: 'INDUS',\n 3: 'CHAS',\n 4: 'NOX',\n 5: 'RM',\n 6: 'AGE',\n 7: 'DIS',\n 8: 'RAD',\n 9: 'TAX',\n 10: 'PTRATIO',\n 11: 'B',\n 12: 'LSTAT'}"
          },
          "metadata": {}
        }
      ],
      "execution_count": 66
    },
    {
      "cell_type": "code",
      "source": "df_importances.sort_values(by=1)",
      "metadata": {
        "trusted": true
      },
      "outputs": [
        {
          "execution_count": 67,
          "output_type": "execute_result",
          "data": {
            "text/plain": "               0          1\n73        RM TAX  -7.484883\n64       NOX RAD  -5.324131\n72        RM RAD  -4.516639\n94     RAD LSTAT  -4.455994\n49   INDUS LSTAT  -4.416767\n..           ...        ...\n4           CHAS   4.057486\n104      LSTAT^2   5.467342\n96   TAX PTRATIO   7.142666\n69          RM^2   8.325413\n92   RAD PTRATIO  13.206508\n\n[105 rows x 2 columns]",
            "text/html": "<div>\n<style scoped>\n    .dataframe tbody tr th:only-of-type {\n        vertical-align: middle;\n    }\n\n    .dataframe tbody tr th {\n        vertical-align: top;\n    }\n\n    .dataframe thead th {\n        text-align: right;\n    }\n</style>\n<table border=\"1\" class=\"dataframe\">\n  <thead>\n    <tr style=\"text-align: right;\">\n      <th></th>\n      <th>0</th>\n      <th>1</th>\n    </tr>\n  </thead>\n  <tbody>\n    <tr>\n      <th>73</th>\n      <td>RM TAX</td>\n      <td>-7.484883</td>\n    </tr>\n    <tr>\n      <th>64</th>\n      <td>NOX RAD</td>\n      <td>-5.324131</td>\n    </tr>\n    <tr>\n      <th>72</th>\n      <td>RM RAD</td>\n      <td>-4.516639</td>\n    </tr>\n    <tr>\n      <th>94</th>\n      <td>RAD LSTAT</td>\n      <td>-4.455994</td>\n    </tr>\n    <tr>\n      <th>49</th>\n      <td>INDUS LSTAT</td>\n      <td>-4.416767</td>\n    </tr>\n    <tr>\n      <th>...</th>\n      <td>...</td>\n      <td>...</td>\n    </tr>\n    <tr>\n      <th>4</th>\n      <td>CHAS</td>\n      <td>4.057486</td>\n    </tr>\n    <tr>\n      <th>104</th>\n      <td>LSTAT^2</td>\n      <td>5.467342</td>\n    </tr>\n    <tr>\n      <th>96</th>\n      <td>TAX PTRATIO</td>\n      <td>7.142666</td>\n    </tr>\n    <tr>\n      <th>69</th>\n      <td>RM^2</td>\n      <td>8.325413</td>\n    </tr>\n    <tr>\n      <th>92</th>\n      <td>RAD PTRATIO</td>\n      <td>13.206508</td>\n    </tr>\n  </tbody>\n</table>\n<p>105 rows × 2 columns</p>\n</div>"
          },
          "metadata": {}
        }
      ],
      "execution_count": 67
    },
    {
      "cell_type": "code",
      "source": "print(boston_description)",
      "metadata": {
        "trusted": true
      },
      "outputs": [
        {
          "name": "stdout",
          "text": "Boston House Prices dataset\n===========================\n\nNotes\n------\nData Set Characteristics:  \n\n    :Number of Instances: 506 \n\n    :Number of Attributes: 13 numeric/categorical predictive\n    \n    :Median Value (attribute 14) is usually the target\n\n    :Attribute Information (in order):\n        - CRIM     per capita crime rate by town\n        - ZN       proportion of residential land zoned for lots over 25,000 sq.ft.\n        - INDUS    proportion of non-retail business acres per town\n        - CHAS     Charles River dummy variable (= 1 if tract bounds river; 0 otherwise)\n        - NOX      nitric oxides concentration (parts per 10 million)\n        - RM       average number of rooms per dwelling\n        - AGE      proportion of owner-occupied units built prior to 1940\n        - DIS      weighted distances to five Boston employment centres\n        - RAD      index of accessibility to radial highways\n        - TAX      full-value property-tax rate per $10,000\n        - PTRATIO  pupil-teacher ratio by town\n        - B        1000(Bk - 0.63)^2 where Bk is the proportion of blacks by town\n        - LSTAT    % lower status of the population\n        - MEDV     Median value of owner-occupied homes in $1000's\n\n    :Missing Attribute Values: None\n\n    :Creator: Harrison, D. and Rubinfeld, D.L.\n\nThis is a copy of UCI ML housing dataset.\nhttp://archive.ics.uci.edu/ml/datasets/Housing\n\n\nThis dataset was taken from the StatLib library which is maintained at Carnegie Mellon University.\n\nThe Boston house-price data of Harrison, D. and Rubinfeld, D.L. 'Hedonic\nprices and the demand for clean air', J. Environ. Economics & Management,\nvol.5, 81-102, 1978.   Used in Belsley, Kuh & Welsch, 'Regression diagnostics\n...', Wiley, 1980.   N.B. Various transformations are used in the table on\npages 244-261 of the latter.\n\nThe Boston house-price data has been used in many machine learning papers that address regression\nproblems.   \n     \n**References**\n\n   - Belsley, Kuh & Welsch, 'Regression diagnostics: Identifying Influential Data and Sources of Collinearity', Wiley, 1980. 244-261.\n   - Quinlan,R. (1993). Combining Instance-Based and Model-Based Learning. In Proceedings on the Tenth International Conference of Machine Learning, 236-243, University of Massachusetts, Amherst. Morgan Kaufmann.\n   - many more! (see http://archive.ics.uci.edu/ml/datasets/Housing)\n\n",
          "output_type": "stream"
        }
      ],
      "execution_count": 69
    },
    {
      "cell_type": "markdown",
      "source": "## Grid Search CV\n",
      "metadata": {}
    },
    {
      "cell_type": "markdown",
      "source": "To do cross-validation, we used two techniques:\n- use `KFolds` and manually create a loop to do cross-validation\n- use `cross_val_predict` and `score` to get a cross-valiated score in a couple of lines.\n\nTo do hyper-parameter tuning, we see a general pattern:\n- use `cross_val_predict` and `score` in a manually written loop over hyperparemeters, then select the best one.\n\nPerhaps not surprisingly, there is a function that does this for us -- `GridSearchCV`\n",
      "metadata": {}
    },
    {
      "cell_type": "code",
      "source": "from sklearn.model_selection import GridSearchCV\n\n# Same estimator as before\nestimator = Pipeline([(\"polynomial_features\", PolynomialFeatures()),\n                      (\"scaler\", StandardScaler()),  \n                      (\"ridge_regression\", Ridge())])\n\nparams = {\n    'polynomial_features__degree': [1, 2, 3],\n    'ridge_regression__alpha': np.geomspace(4, 20, 30)\n}\n\ngrid = GridSearchCV(estimator, params, cv=kf)",
      "metadata": {
        "trusted": true
      },
      "outputs": [],
      "execution_count": 78
    },
    {
      "cell_type": "code",
      "source": "grid.fit(X, y)",
      "metadata": {
        "trusted": true
      },
      "outputs": [
        {
          "execution_count": 79,
          "output_type": "execute_result",
          "data": {
            "text/plain": "GridSearchCV(cv=KFold(n_splits=3, random_state=72018, shuffle=True),\n             estimator=Pipeline(steps=[('polynomial_features',\n                                        PolynomialFeatures()),\n                                       ('scaler', StandardScaler()),\n                                       ('ridge_regression', Ridge())]),\n             param_grid={'polynomial_features__degree': [1, 2, 3],\n                         'ridge_regression__alpha': array([ 4.        ,  4.22826702,  4.46956049,  4.7246238 ,  4.99424274,\n        5.27924796,  5.58051751,  5.89897953,  6.23561514,  6.59146146,\n        6.96761476,  7.36523392,  7.78554391,  8.22983963,  8.69948987,\n        9.19594151,  9.72072404, 10.27545421, 10.86184103, 11.48169104,\n       12.13691388, 12.82952815, 13.56166768, 14.33558803, 15.15367351,\n       16.01844446, 16.93256509, 17.89885162, 18.92028098, 20.        ])})",
            "text/html": "<style>#sk-container-id-3 {\n  /* Definition of color scheme common for light and dark mode */\n  --sklearn-color-text: black;\n  --sklearn-color-line: gray;\n  /* Definition of color scheme for unfitted estimators */\n  --sklearn-color-unfitted-level-0: #fff5e6;\n  --sklearn-color-unfitted-level-1: #f6e4d2;\n  --sklearn-color-unfitted-level-2: #ffe0b3;\n  --sklearn-color-unfitted-level-3: chocolate;\n  /* Definition of color scheme for fitted estimators */\n  --sklearn-color-fitted-level-0: #f0f8ff;\n  --sklearn-color-fitted-level-1: #d4ebff;\n  --sklearn-color-fitted-level-2: #b3dbfd;\n  --sklearn-color-fitted-level-3: cornflowerblue;\n\n  /* Specific color for light theme */\n  --sklearn-color-text-on-default-background: var(--sg-text-color, var(--theme-code-foreground, var(--jp-content-font-color1, black)));\n  --sklearn-color-background: var(--sg-background-color, var(--theme-background, var(--jp-layout-color0, white)));\n  --sklearn-color-border-box: var(--sg-text-color, var(--theme-code-foreground, var(--jp-content-font-color1, black)));\n  --sklearn-color-icon: #696969;\n\n  @media (prefers-color-scheme: dark) {\n    /* Redefinition of color scheme for dark theme */\n    --sklearn-color-text-on-default-background: var(--sg-text-color, var(--theme-code-foreground, var(--jp-content-font-color1, white)));\n    --sklearn-color-background: var(--sg-background-color, var(--theme-background, var(--jp-layout-color0, #111)));\n    --sklearn-color-border-box: var(--sg-text-color, var(--theme-code-foreground, var(--jp-content-font-color1, white)));\n    --sklearn-color-icon: #878787;\n  }\n}\n\n#sk-container-id-3 {\n  color: var(--sklearn-color-text);\n}\n\n#sk-container-id-3 pre {\n  padding: 0;\n}\n\n#sk-container-id-3 input.sk-hidden--visually {\n  border: 0;\n  clip: rect(1px 1px 1px 1px);\n  clip: rect(1px, 1px, 1px, 1px);\n  height: 1px;\n  margin: -1px;\n  overflow: hidden;\n  padding: 0;\n  position: absolute;\n  width: 1px;\n}\n\n#sk-container-id-3 div.sk-dashed-wrapped {\n  border: 1px dashed var(--sklearn-color-line);\n  margin: 0 0.4em 0.5em 0.4em;\n  box-sizing: border-box;\n  padding-bottom: 0.4em;\n  background-color: var(--sklearn-color-background);\n}\n\n#sk-container-id-3 div.sk-container {\n  /* jupyter's `normalize.less` sets `[hidden] { display: none; }`\n     but bootstrap.min.css set `[hidden] { display: none !important; }`\n     so we also need the `!important` here to be able to override the\n     default hidden behavior on the sphinx rendered scikit-learn.org.\n     See: https://github.com/scikit-learn/scikit-learn/issues/21755 */\n  display: inline-block !important;\n  position: relative;\n}\n\n#sk-container-id-3 div.sk-text-repr-fallback {\n  display: none;\n}\n\ndiv.sk-parallel-item,\ndiv.sk-serial,\ndiv.sk-item {\n  /* draw centered vertical line to link estimators */\n  background-image: linear-gradient(var(--sklearn-color-text-on-default-background), var(--sklearn-color-text-on-default-background));\n  background-size: 2px 100%;\n  background-repeat: no-repeat;\n  background-position: center center;\n}\n\n/* Parallel-specific style estimator block */\n\n#sk-container-id-3 div.sk-parallel-item::after {\n  content: \"\";\n  width: 100%;\n  border-bottom: 2px solid var(--sklearn-color-text-on-default-background);\n  flex-grow: 1;\n}\n\n#sk-container-id-3 div.sk-parallel {\n  display: flex;\n  align-items: stretch;\n  justify-content: center;\n  background-color: var(--sklearn-color-background);\n  position: relative;\n}\n\n#sk-container-id-3 div.sk-parallel-item {\n  display: flex;\n  flex-direction: column;\n}\n\n#sk-container-id-3 div.sk-parallel-item:first-child::after {\n  align-self: flex-end;\n  width: 50%;\n}\n\n#sk-container-id-3 div.sk-parallel-item:last-child::after {\n  align-self: flex-start;\n  width: 50%;\n}\n\n#sk-container-id-3 div.sk-parallel-item:only-child::after {\n  width: 0;\n}\n\n/* Serial-specific style estimator block */\n\n#sk-container-id-3 div.sk-serial {\n  display: flex;\n  flex-direction: column;\n  align-items: center;\n  background-color: var(--sklearn-color-background);\n  padding-right: 1em;\n  padding-left: 1em;\n}\n\n\n/* Toggleable style: style used for estimator/Pipeline/ColumnTransformer box that is\nclickable and can be expanded/collapsed.\n- Pipeline and ColumnTransformer use this feature and define the default style\n- Estimators will overwrite some part of the style using the `sk-estimator` class\n*/\n\n/* Pipeline and ColumnTransformer style (default) */\n\n#sk-container-id-3 div.sk-toggleable {\n  /* Default theme specific background. It is overwritten whether we have a\n  specific estimator or a Pipeline/ColumnTransformer */\n  background-color: var(--sklearn-color-background);\n}\n\n/* Toggleable label */\n#sk-container-id-3 label.sk-toggleable__label {\n  cursor: pointer;\n  display: block;\n  width: 100%;\n  margin-bottom: 0;\n  padding: 0.5em;\n  box-sizing: border-box;\n  text-align: center;\n}\n\n#sk-container-id-3 label.sk-toggleable__label-arrow:before {\n  /* Arrow on the left of the label */\n  content: \"▸\";\n  float: left;\n  margin-right: 0.25em;\n  color: var(--sklearn-color-icon);\n}\n\n#sk-container-id-3 label.sk-toggleable__label-arrow:hover:before {\n  color: var(--sklearn-color-text);\n}\n\n/* Toggleable content - dropdown */\n\n#sk-container-id-3 div.sk-toggleable__content {\n  max-height: 0;\n  max-width: 0;\n  overflow: hidden;\n  text-align: left;\n  /* unfitted */\n  background-color: var(--sklearn-color-unfitted-level-0);\n}\n\n#sk-container-id-3 div.sk-toggleable__content.fitted {\n  /* fitted */\n  background-color: var(--sklearn-color-fitted-level-0);\n}\n\n#sk-container-id-3 div.sk-toggleable__content pre {\n  margin: 0.2em;\n  border-radius: 0.25em;\n  color: var(--sklearn-color-text);\n  /* unfitted */\n  background-color: var(--sklearn-color-unfitted-level-0);\n}\n\n#sk-container-id-3 div.sk-toggleable__content.fitted pre {\n  /* unfitted */\n  background-color: var(--sklearn-color-fitted-level-0);\n}\n\n#sk-container-id-3 input.sk-toggleable__control:checked~div.sk-toggleable__content {\n  /* Expand drop-down */\n  max-height: 200px;\n  max-width: 100%;\n  overflow: auto;\n}\n\n#sk-container-id-3 input.sk-toggleable__control:checked~label.sk-toggleable__label-arrow:before {\n  content: \"▾\";\n}\n\n/* Pipeline/ColumnTransformer-specific style */\n\n#sk-container-id-3 div.sk-label input.sk-toggleable__control:checked~label.sk-toggleable__label {\n  color: var(--sklearn-color-text);\n  background-color: var(--sklearn-color-unfitted-level-2);\n}\n\n#sk-container-id-3 div.sk-label.fitted input.sk-toggleable__control:checked~label.sk-toggleable__label {\n  background-color: var(--sklearn-color-fitted-level-2);\n}\n\n/* Estimator-specific style */\n\n/* Colorize estimator box */\n#sk-container-id-3 div.sk-estimator input.sk-toggleable__control:checked~label.sk-toggleable__label {\n  /* unfitted */\n  background-color: var(--sklearn-color-unfitted-level-2);\n}\n\n#sk-container-id-3 div.sk-estimator.fitted input.sk-toggleable__control:checked~label.sk-toggleable__label {\n  /* fitted */\n  background-color: var(--sklearn-color-fitted-level-2);\n}\n\n#sk-container-id-3 div.sk-label label.sk-toggleable__label,\n#sk-container-id-3 div.sk-label label {\n  /* The background is the default theme color */\n  color: var(--sklearn-color-text-on-default-background);\n}\n\n/* On hover, darken the color of the background */\n#sk-container-id-3 div.sk-label:hover label.sk-toggleable__label {\n  color: var(--sklearn-color-text);\n  background-color: var(--sklearn-color-unfitted-level-2);\n}\n\n/* Label box, darken color on hover, fitted */\n#sk-container-id-3 div.sk-label.fitted:hover label.sk-toggleable__label.fitted {\n  color: var(--sklearn-color-text);\n  background-color: var(--sklearn-color-fitted-level-2);\n}\n\n/* Estimator label */\n\n#sk-container-id-3 div.sk-label label {\n  font-family: monospace;\n  font-weight: bold;\n  display: inline-block;\n  line-height: 1.2em;\n}\n\n#sk-container-id-3 div.sk-label-container {\n  text-align: center;\n}\n\n/* Estimator-specific */\n#sk-container-id-3 div.sk-estimator {\n  font-family: monospace;\n  border: 1px dotted var(--sklearn-color-border-box);\n  border-radius: 0.25em;\n  box-sizing: border-box;\n  margin-bottom: 0.5em;\n  /* unfitted */\n  background-color: var(--sklearn-color-unfitted-level-0);\n}\n\n#sk-container-id-3 div.sk-estimator.fitted {\n  /* fitted */\n  background-color: var(--sklearn-color-fitted-level-0);\n}\n\n/* on hover */\n#sk-container-id-3 div.sk-estimator:hover {\n  /* unfitted */\n  background-color: var(--sklearn-color-unfitted-level-2);\n}\n\n#sk-container-id-3 div.sk-estimator.fitted:hover {\n  /* fitted */\n  background-color: var(--sklearn-color-fitted-level-2);\n}\n\n/* Specification for estimator info (e.g. \"i\" and \"?\") */\n\n/* Common style for \"i\" and \"?\" */\n\n.sk-estimator-doc-link,\na:link.sk-estimator-doc-link,\na:visited.sk-estimator-doc-link {\n  float: right;\n  font-size: smaller;\n  line-height: 1em;\n  font-family: monospace;\n  background-color: var(--sklearn-color-background);\n  border-radius: 1em;\n  height: 1em;\n  width: 1em;\n  text-decoration: none !important;\n  margin-left: 1ex;\n  /* unfitted */\n  border: var(--sklearn-color-unfitted-level-1) 1pt solid;\n  color: var(--sklearn-color-unfitted-level-1);\n}\n\n.sk-estimator-doc-link.fitted,\na:link.sk-estimator-doc-link.fitted,\na:visited.sk-estimator-doc-link.fitted {\n  /* fitted */\n  border: var(--sklearn-color-fitted-level-1) 1pt solid;\n  color: var(--sklearn-color-fitted-level-1);\n}\n\n/* On hover */\ndiv.sk-estimator:hover .sk-estimator-doc-link:hover,\n.sk-estimator-doc-link:hover,\ndiv.sk-label-container:hover .sk-estimator-doc-link:hover,\n.sk-estimator-doc-link:hover {\n  /* unfitted */\n  background-color: var(--sklearn-color-unfitted-level-3);\n  color: var(--sklearn-color-background);\n  text-decoration: none;\n}\n\ndiv.sk-estimator.fitted:hover .sk-estimator-doc-link.fitted:hover,\n.sk-estimator-doc-link.fitted:hover,\ndiv.sk-label-container:hover .sk-estimator-doc-link.fitted:hover,\n.sk-estimator-doc-link.fitted:hover {\n  /* fitted */\n  background-color: var(--sklearn-color-fitted-level-3);\n  color: var(--sklearn-color-background);\n  text-decoration: none;\n}\n\n/* Span, style for the box shown on hovering the info icon */\n.sk-estimator-doc-link span {\n  display: none;\n  z-index: 9999;\n  position: relative;\n  font-weight: normal;\n  right: .2ex;\n  padding: .5ex;\n  margin: .5ex;\n  width: min-content;\n  min-width: 20ex;\n  max-width: 50ex;\n  color: var(--sklearn-color-text);\n  box-shadow: 2pt 2pt 4pt #999;\n  /* unfitted */\n  background: var(--sklearn-color-unfitted-level-0);\n  border: .5pt solid var(--sklearn-color-unfitted-level-3);\n}\n\n.sk-estimator-doc-link.fitted span {\n  /* fitted */\n  background: var(--sklearn-color-fitted-level-0);\n  border: var(--sklearn-color-fitted-level-3);\n}\n\n.sk-estimator-doc-link:hover span {\n  display: block;\n}\n\n/* \"?\"-specific style due to the `<a>` HTML tag */\n\n#sk-container-id-3 a.estimator_doc_link {\n  float: right;\n  font-size: 1rem;\n  line-height: 1em;\n  font-family: monospace;\n  background-color: var(--sklearn-color-background);\n  border-radius: 1rem;\n  height: 1rem;\n  width: 1rem;\n  text-decoration: none;\n  /* unfitted */\n  color: var(--sklearn-color-unfitted-level-1);\n  border: var(--sklearn-color-unfitted-level-1) 1pt solid;\n}\n\n#sk-container-id-3 a.estimator_doc_link.fitted {\n  /* fitted */\n  border: var(--sklearn-color-fitted-level-1) 1pt solid;\n  color: var(--sklearn-color-fitted-level-1);\n}\n\n/* On hover */\n#sk-container-id-3 a.estimator_doc_link:hover {\n  /* unfitted */\n  background-color: var(--sklearn-color-unfitted-level-3);\n  color: var(--sklearn-color-background);\n  text-decoration: none;\n}\n\n#sk-container-id-3 a.estimator_doc_link.fitted:hover {\n  /* fitted */\n  background-color: var(--sklearn-color-fitted-level-3);\n}\n</style><div id=\"sk-container-id-3\" class=\"sk-top-container\"><div class=\"sk-text-repr-fallback\"><pre>GridSearchCV(cv=KFold(n_splits=3, random_state=72018, shuffle=True),\n             estimator=Pipeline(steps=[(&#x27;polynomial_features&#x27;,\n                                        PolynomialFeatures()),\n                                       (&#x27;scaler&#x27;, StandardScaler()),\n                                       (&#x27;ridge_regression&#x27;, Ridge())]),\n             param_grid={&#x27;polynomial_features__degree&#x27;: [1, 2, 3],\n                         &#x27;ridge_regression__alpha&#x27;: array([ 4.        ,  4.22826702,  4.46956049,  4.7246238 ,  4.99424274,\n        5.27924796,  5.58051751,  5.89897953,  6.23561514,  6.59146146,\n        6.96761476,  7.36523392,  7.78554391,  8.22983963,  8.69948987,\n        9.19594151,  9.72072404, 10.27545421, 10.86184103, 11.48169104,\n       12.13691388, 12.82952815, 13.56166768, 14.33558803, 15.15367351,\n       16.01844446, 16.93256509, 17.89885162, 18.92028098, 20.        ])})</pre><b>In a Jupyter environment, please rerun this cell to show the HTML representation or trust the notebook. <br />On GitHub, the HTML representation is unable to render, please try loading this page with nbviewer.org.</b></div><div class=\"sk-container\" hidden><div class=\"sk-item sk-dashed-wrapped\"><div class=\"sk-label-container\"><div class=\"sk-label fitted sk-toggleable\"><input class=\"sk-toggleable__control sk-hidden--visually\" id=\"sk-estimator-id-11\" type=\"checkbox\" ><label for=\"sk-estimator-id-11\" class=\"sk-toggleable__label fitted sk-toggleable__label-arrow fitted\">&nbsp;&nbsp;GridSearchCV<a class=\"sk-estimator-doc-link fitted\" rel=\"noreferrer\" target=\"_blank\" href=\"https://scikit-learn.org/1.4/modules/generated/sklearn.model_selection.GridSearchCV.html\">?<span>Documentation for GridSearchCV</span></a><span class=\"sk-estimator-doc-link fitted\">i<span>Fitted</span></span></label><div class=\"sk-toggleable__content fitted\"><pre>GridSearchCV(cv=KFold(n_splits=3, random_state=72018, shuffle=True),\n             estimator=Pipeline(steps=[(&#x27;polynomial_features&#x27;,\n                                        PolynomialFeatures()),\n                                       (&#x27;scaler&#x27;, StandardScaler()),\n                                       (&#x27;ridge_regression&#x27;, Ridge())]),\n             param_grid={&#x27;polynomial_features__degree&#x27;: [1, 2, 3],\n                         &#x27;ridge_regression__alpha&#x27;: array([ 4.        ,  4.22826702,  4.46956049,  4.7246238 ,  4.99424274,\n        5.27924796,  5.58051751,  5.89897953,  6.23561514,  6.59146146,\n        6.96761476,  7.36523392,  7.78554391,  8.22983963,  8.69948987,\n        9.19594151,  9.72072404, 10.27545421, 10.86184103, 11.48169104,\n       12.13691388, 12.82952815, 13.56166768, 14.33558803, 15.15367351,\n       16.01844446, 16.93256509, 17.89885162, 18.92028098, 20.        ])})</pre></div> </div></div><div class=\"sk-parallel\"><div class=\"sk-parallel-item\"><div class=\"sk-item\"><div class=\"sk-label-container\"><div class=\"sk-label fitted sk-toggleable\"><input class=\"sk-toggleable__control sk-hidden--visually\" id=\"sk-estimator-id-12\" type=\"checkbox\" ><label for=\"sk-estimator-id-12\" class=\"sk-toggleable__label fitted sk-toggleable__label-arrow fitted\">estimator: Pipeline</label><div class=\"sk-toggleable__content fitted\"><pre>Pipeline(steps=[(&#x27;polynomial_features&#x27;, PolynomialFeatures()),\n                (&#x27;scaler&#x27;, StandardScaler()), (&#x27;ridge_regression&#x27;, Ridge())])</pre></div> </div></div><div class=\"sk-serial\"><div class=\"sk-item\"><div class=\"sk-serial\"><div class=\"sk-item\"><div class=\"sk-estimator fitted sk-toggleable\"><input class=\"sk-toggleable__control sk-hidden--visually\" id=\"sk-estimator-id-13\" type=\"checkbox\" ><label for=\"sk-estimator-id-13\" class=\"sk-toggleable__label fitted sk-toggleable__label-arrow fitted\">&nbsp;PolynomialFeatures<a class=\"sk-estimator-doc-link fitted\" rel=\"noreferrer\" target=\"_blank\" href=\"https://scikit-learn.org/1.4/modules/generated/sklearn.preprocessing.PolynomialFeatures.html\">?<span>Documentation for PolynomialFeatures</span></a></label><div class=\"sk-toggleable__content fitted\"><pre>PolynomialFeatures()</pre></div> </div></div><div class=\"sk-item\"><div class=\"sk-estimator fitted sk-toggleable\"><input class=\"sk-toggleable__control sk-hidden--visually\" id=\"sk-estimator-id-14\" type=\"checkbox\" ><label for=\"sk-estimator-id-14\" class=\"sk-toggleable__label fitted sk-toggleable__label-arrow fitted\">&nbsp;StandardScaler<a class=\"sk-estimator-doc-link fitted\" rel=\"noreferrer\" target=\"_blank\" href=\"https://scikit-learn.org/1.4/modules/generated/sklearn.preprocessing.StandardScaler.html\">?<span>Documentation for StandardScaler</span></a></label><div class=\"sk-toggleable__content fitted\"><pre>StandardScaler()</pre></div> </div></div><div class=\"sk-item\"><div class=\"sk-estimator fitted sk-toggleable\"><input class=\"sk-toggleable__control sk-hidden--visually\" id=\"sk-estimator-id-15\" type=\"checkbox\" ><label for=\"sk-estimator-id-15\" class=\"sk-toggleable__label fitted sk-toggleable__label-arrow fitted\">&nbsp;Ridge<a class=\"sk-estimator-doc-link fitted\" rel=\"noreferrer\" target=\"_blank\" href=\"https://scikit-learn.org/1.4/modules/generated/sklearn.linear_model.Ridge.html\">?<span>Documentation for Ridge</span></a></label><div class=\"sk-toggleable__content fitted\"><pre>Ridge()</pre></div> </div></div></div></div></div></div></div></div></div></div></div>"
          },
          "metadata": {}
        }
      ],
      "execution_count": 79
    },
    {
      "cell_type": "code",
      "source": "grid.best_score_, grid.best_params_",
      "metadata": {
        "trusted": true
      },
      "outputs": [
        {
          "execution_count": 80,
          "output_type": "execute_result",
          "data": {
            "text/plain": "(0.854633378207041,\n {'polynomial_features__degree': 2, 'ridge_regression__alpha': 4.0})"
          },
          "metadata": {}
        }
      ],
      "execution_count": 80
    },
    {
      "cell_type": "code",
      "source": "y_predict = grid.predict(X)",
      "metadata": {
        "trusted": true
      },
      "outputs": [],
      "execution_count": 81
    },
    {
      "cell_type": "code",
      "source": "# This includes both in-sample and out-of-sample\nr2_score(y, y_predict)",
      "metadata": {
        "trusted": true
      },
      "outputs": [
        {
          "execution_count": 82,
          "output_type": "execute_result",
          "data": {
            "text/plain": "0.8964707714558123"
          },
          "metadata": {}
        }
      ],
      "execution_count": 82
    },
    {
      "cell_type": "code",
      "source": "# Notice that \"grid\" is a fit object!\n# We can use grid.predict(X_test) to get brand new predictions!\ngrid.best_estimator_.named_steps['ridge_regression'].coef_",
      "metadata": {
        "trusted": true
      },
      "outputs": [
        {
          "execution_count": 83,
          "output_type": "execute_result",
          "data": {
            "text/plain": "array([ 0.00000000e+00,  2.47147038e-01, -1.18377806e+00,  1.11700133e+00,\n        1.02268931e+00,  1.11573592e+00,  2.63515343e+00,  1.60400844e+00,\n       -2.44378403e+00,  2.67549673e+00,  1.18120641e+00,  3.00931414e-01,\n        7.17164316e-01,  5.46697603e-01,  1.16368605e+00,  2.78583120e-01,\n        4.15770986e-01,  2.45396270e+00, -1.07012228e+00, -8.15812777e-01,\n       -2.95036466e-01, -8.26480829e-01, -4.23552596e-01, -4.33022591e-02,\n        8.34930099e-02, -4.92838202e-01,  5.12447325e-01,  5.88355149e-01,\n       -3.50662224e-01, -1.39184102e-01, -2.99737738e-01,  1.02696466e+00,\n        1.47705864e-02, -6.87593891e-01, -3.12176710e-01,  1.26476807e+00,\n        1.01258007e+00, -5.51925730e-01, -8.62269698e-01,  8.78832853e-01,\n        6.75975245e-02,  5.91362874e-01, -1.45086000e+00,  1.09286634e+00,\n       -7.69112663e-01,  1.16978387e+00,  1.29460196e+00, -7.36888615e-01,\n        7.29205860e-01, -2.44086792e+00,  1.02268931e+00, -2.26162754e+00,\n       -2.56091292e+00,  7.93445821e-01,  8.93650928e-01, -1.40176885e+00,\n       -5.90308431e-01,  6.48531603e-01,  1.51647270e+00, -6.34275596e-01,\n       -2.70133478e-01, -1.21405240e+00, -7.39233780e-01, -1.08452081e+00,\n       -5.78990020e-01, -7.37795974e-01, -1.12672094e+00,  2.99935516e-01,\n        2.82902653e-01,  5.69116051e+00, -1.25149671e+00,  4.71964702e-01,\n       -2.26642600e+00, -3.64722981e+00, -2.98653723e+00,  1.61479424e+00,\n       -3.45481774e+00,  1.74801027e-01,  1.85117499e-05,  1.67217459e+00,\n        2.86547168e-01, -7.33885392e-02, -1.23850226e+00, -1.78673478e+00,\n        2.25040443e+00,  4.28050229e-01, -1.14432376e+00,  1.09490308e-01,\n       -1.11626912e+00,  1.53508126e+00, -6.30486265e-01,  6.70247233e-01,\n        2.24813158e+00,  3.12190879e-01, -2.71959257e+00,  2.18644985e-02,\n        1.81340123e+00, -6.61376315e-02, -2.14156164e+00,  8.38822098e-01,\n        3.11177198e-01,  2.69570504e-01, -6.64708129e-01, -1.41443974e+00,\n        4.63455327e+00])"
          },
          "metadata": {}
        }
      ],
      "execution_count": 83
    },
    {
      "cell_type": "code",
      "source": "pd.DataFrame(grid.cv_results_)",
      "metadata": {
        "trusted": true
      },
      "outputs": [
        {
          "execution_count": 84,
          "output_type": "execute_result",
          "data": {
            "text/plain": "    mean_fit_time  std_fit_time  mean_score_time  std_score_time  \\\n0        0.008334      0.002357         0.002667        0.000471   \n1        0.005333      0.000471         0.002667        0.001700   \n2        0.005667      0.000943         0.001667        0.000471   \n3        0.004667      0.000471         0.003000        0.000817   \n4        0.005667      0.001700         0.001667        0.000471   \n..            ...           ...              ...             ...   \n85       0.055333      0.000943         0.004000        0.001414   \n86       0.056333      0.001700         0.004000        0.000816   \n87       0.054333      0.001247         0.003667        0.000471   \n88       0.054667      0.000943         0.004333        0.001886   \n89       0.056000      0.001414         0.003667        0.000471   \n\n   param_polynomial_features__degree param_ridge_regression__alpha  \\\n0                                  1                           4.0   \n1                                  1                      4.228267   \n2                                  1                       4.46956   \n3                                  1                      4.724624   \n4                                  1                      4.994243   \n..                               ...                           ...   \n85                                 3                     16.018444   \n86                                 3                     16.932565   \n87                                 3                     17.898852   \n88                                 3                     18.920281   \n89                                 3                          20.0   \n\n                                               params  split0_test_score  \\\n0   {'polynomial_features__degree': 1, 'ridge_regr...           0.672111   \n1   {'polynomial_features__degree': 1, 'ridge_regr...           0.672103   \n2   {'polynomial_features__degree': 1, 'ridge_regr...           0.672093   \n3   {'polynomial_features__degree': 1, 'ridge_regr...           0.672081   \n4   {'polynomial_features__degree': 1, 'ridge_regr...           0.672067   \n..                                                ...                ...   \n85  {'polynomial_features__degree': 3, 'ridge_regr...           0.827782   \n86  {'polynomial_features__degree': 3, 'ridge_regr...           0.827717   \n87  {'polynomial_features__degree': 3, 'ridge_regr...           0.827628   \n88  {'polynomial_features__degree': 3, 'ridge_regr...           0.827515   \n89  {'polynomial_features__degree': 3, 'ridge_regr...           0.827380   \n\n    split1_test_score  split2_test_score  mean_test_score  std_test_score  \\\n0            0.748235           0.701801         0.707382        0.031327   \n1            0.748207           0.701986         0.707432        0.031307   \n2            0.748175           0.702178         0.707482        0.031286   \n3            0.748141           0.702375         0.707533        0.031265   \n4            0.748104           0.702579         0.707583        0.031243   \n..                ...                ...              ...             ...   \n85           0.867759           0.859693         0.851745        0.017261   \n86           0.867351           0.859455         0.851508        0.017129   \n87           0.866926           0.859179         0.851244        0.016996   \n88           0.866483           0.858866         0.850955        0.016863   \n89           0.866023           0.858513         0.850639        0.016730   \n\n    rank_test_score  \n0                90  \n1                89  \n2                88  \n3                87  \n4                86  \n..              ...  \n85               23  \n86               25  \n87               27  \n88               30  \n89               32  \n\n[90 rows x 13 columns]",
            "text/html": "<div>\n<style scoped>\n    .dataframe tbody tr th:only-of-type {\n        vertical-align: middle;\n    }\n\n    .dataframe tbody tr th {\n        vertical-align: top;\n    }\n\n    .dataframe thead th {\n        text-align: right;\n    }\n</style>\n<table border=\"1\" class=\"dataframe\">\n  <thead>\n    <tr style=\"text-align: right;\">\n      <th></th>\n      <th>mean_fit_time</th>\n      <th>std_fit_time</th>\n      <th>mean_score_time</th>\n      <th>std_score_time</th>\n      <th>param_polynomial_features__degree</th>\n      <th>param_ridge_regression__alpha</th>\n      <th>params</th>\n      <th>split0_test_score</th>\n      <th>split1_test_score</th>\n      <th>split2_test_score</th>\n      <th>mean_test_score</th>\n      <th>std_test_score</th>\n      <th>rank_test_score</th>\n    </tr>\n  </thead>\n  <tbody>\n    <tr>\n      <th>0</th>\n      <td>0.008334</td>\n      <td>0.002357</td>\n      <td>0.002667</td>\n      <td>0.000471</td>\n      <td>1</td>\n      <td>4.0</td>\n      <td>{'polynomial_features__degree': 1, 'ridge_regr...</td>\n      <td>0.672111</td>\n      <td>0.748235</td>\n      <td>0.701801</td>\n      <td>0.707382</td>\n      <td>0.031327</td>\n      <td>90</td>\n    </tr>\n    <tr>\n      <th>1</th>\n      <td>0.005333</td>\n      <td>0.000471</td>\n      <td>0.002667</td>\n      <td>0.001700</td>\n      <td>1</td>\n      <td>4.228267</td>\n      <td>{'polynomial_features__degree': 1, 'ridge_regr...</td>\n      <td>0.672103</td>\n      <td>0.748207</td>\n      <td>0.701986</td>\n      <td>0.707432</td>\n      <td>0.031307</td>\n      <td>89</td>\n    </tr>\n    <tr>\n      <th>2</th>\n      <td>0.005667</td>\n      <td>0.000943</td>\n      <td>0.001667</td>\n      <td>0.000471</td>\n      <td>1</td>\n      <td>4.46956</td>\n      <td>{'polynomial_features__degree': 1, 'ridge_regr...</td>\n      <td>0.672093</td>\n      <td>0.748175</td>\n      <td>0.702178</td>\n      <td>0.707482</td>\n      <td>0.031286</td>\n      <td>88</td>\n    </tr>\n    <tr>\n      <th>3</th>\n      <td>0.004667</td>\n      <td>0.000471</td>\n      <td>0.003000</td>\n      <td>0.000817</td>\n      <td>1</td>\n      <td>4.724624</td>\n      <td>{'polynomial_features__degree': 1, 'ridge_regr...</td>\n      <td>0.672081</td>\n      <td>0.748141</td>\n      <td>0.702375</td>\n      <td>0.707533</td>\n      <td>0.031265</td>\n      <td>87</td>\n    </tr>\n    <tr>\n      <th>4</th>\n      <td>0.005667</td>\n      <td>0.001700</td>\n      <td>0.001667</td>\n      <td>0.000471</td>\n      <td>1</td>\n      <td>4.994243</td>\n      <td>{'polynomial_features__degree': 1, 'ridge_regr...</td>\n      <td>0.672067</td>\n      <td>0.748104</td>\n      <td>0.702579</td>\n      <td>0.707583</td>\n      <td>0.031243</td>\n      <td>86</td>\n    </tr>\n    <tr>\n      <th>...</th>\n      <td>...</td>\n      <td>...</td>\n      <td>...</td>\n      <td>...</td>\n      <td>...</td>\n      <td>...</td>\n      <td>...</td>\n      <td>...</td>\n      <td>...</td>\n      <td>...</td>\n      <td>...</td>\n      <td>...</td>\n      <td>...</td>\n    </tr>\n    <tr>\n      <th>85</th>\n      <td>0.055333</td>\n      <td>0.000943</td>\n      <td>0.004000</td>\n      <td>0.001414</td>\n      <td>3</td>\n      <td>16.018444</td>\n      <td>{'polynomial_features__degree': 3, 'ridge_regr...</td>\n      <td>0.827782</td>\n      <td>0.867759</td>\n      <td>0.859693</td>\n      <td>0.851745</td>\n      <td>0.017261</td>\n      <td>23</td>\n    </tr>\n    <tr>\n      <th>86</th>\n      <td>0.056333</td>\n      <td>0.001700</td>\n      <td>0.004000</td>\n      <td>0.000816</td>\n      <td>3</td>\n      <td>16.932565</td>\n      <td>{'polynomial_features__degree': 3, 'ridge_regr...</td>\n      <td>0.827717</td>\n      <td>0.867351</td>\n      <td>0.859455</td>\n      <td>0.851508</td>\n      <td>0.017129</td>\n      <td>25</td>\n    </tr>\n    <tr>\n      <th>87</th>\n      <td>0.054333</td>\n      <td>0.001247</td>\n      <td>0.003667</td>\n      <td>0.000471</td>\n      <td>3</td>\n      <td>17.898852</td>\n      <td>{'polynomial_features__degree': 3, 'ridge_regr...</td>\n      <td>0.827628</td>\n      <td>0.866926</td>\n      <td>0.859179</td>\n      <td>0.851244</td>\n      <td>0.016996</td>\n      <td>27</td>\n    </tr>\n    <tr>\n      <th>88</th>\n      <td>0.054667</td>\n      <td>0.000943</td>\n      <td>0.004333</td>\n      <td>0.001886</td>\n      <td>3</td>\n      <td>18.920281</td>\n      <td>{'polynomial_features__degree': 3, 'ridge_regr...</td>\n      <td>0.827515</td>\n      <td>0.866483</td>\n      <td>0.858866</td>\n      <td>0.850955</td>\n      <td>0.016863</td>\n      <td>30</td>\n    </tr>\n    <tr>\n      <th>89</th>\n      <td>0.056000</td>\n      <td>0.001414</td>\n      <td>0.003667</td>\n      <td>0.000471</td>\n      <td>3</td>\n      <td>20.0</td>\n      <td>{'polynomial_features__degree': 3, 'ridge_regr...</td>\n      <td>0.827380</td>\n      <td>0.866023</td>\n      <td>0.858513</td>\n      <td>0.850639</td>\n      <td>0.016730</td>\n      <td>32</td>\n    </tr>\n  </tbody>\n</table>\n<p>90 rows × 13 columns</p>\n</div>"
          },
          "metadata": {}
        }
      ],
      "execution_count": 84
    },
    {
      "cell_type": "markdown",
      "source": "## Summary\n\n1. We can manually generate folds by using `KFolds`\n2. We can get a score using `cross_val_predict(X, y, cv=KFoldObject_or_integer)`. \n   This will produce the out-of-bag prediction for each row.\n3. When doing hyperparameter selection, we should be optimizing on out-of-bag scores. This means either using `cross_val_predict` in a loop, or ....\n4. .... use `GridSearchCV`. GridSearchCV takes a model (or pipeline) and a dictionary of parameters to scan over. It finds the hyperparameter set that has the best out-of-sample score on all the parameters, and calls that it's \"best estimator\". It then retrains on all data with the \"best\" hyper-parameters.\n\n### Extensions\n\nHere are some additional items to keep in mind:\n* There is a `RandomSearchCV` that tries random combination of model parameters. This can be helpful if you have a prohibitive number of combinations to test them all exhaustively.\n* KFolds will randomly select rows to be in the training and test folds. There are other methods (such as `StratifiedKFolds` and `GroupKFold`, which are useful when you need more control over how the data is split (e.g. to prevent data leakage). You can create these specialized objects and pass them to the `cv` argument of `GridSearchCV`.\n",
      "metadata": {}
    },
    {
      "cell_type": "markdown",
      "source": "---\n### Machine Learning Foundation (C) 2020 IBM Corporation\n",
      "metadata": {}
    }
  ]
}